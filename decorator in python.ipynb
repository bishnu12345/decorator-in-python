{
 "cells": [
  {
   "cell_type": "code",
   "execution_count": 1,
   "metadata": {},
   "outputs": [
    {
     "name": "stdout",
     "output_type": "stream",
     "text": [
      "changing to blue\n",
      "Hello, world!!\n",
      "Just saying hi again\n"
     ]
    }
   ],
   "source": [
    "import functools\n",
    "from colorama import init, Fore\n",
    "init()\n",
    "\n",
    "def color(color):\n",
    "    def wrapper(func):\n",
    "        @functools.wraps(func)\n",
    "        def runner(*args, **kwargs):\n",
    "            print(color + 'changing to blue')\n",
    "            func(*args, **kwargs)\n",
    "        return runner\n",
    "    return wrapper\n",
    "\n",
    "@color(color=Fore.BLUE)\n",
    "def greeter():\n",
    "    print('Hello, world!!')\n",
    "    print('Just saying hi again')\n",
    "\n",
    "greeter()\n"
   ]
  },
  {
   "cell_type": "code",
   "execution_count": null,
   "metadata": {},
   "outputs": [],
   "source": []
  }
 ],
 "metadata": {
  "kernelspec": {
   "display_name": "Python 3",
   "language": "python",
   "name": "python3"
  },
  "language_info": {
   "codemirror_mode": {
    "name": "ipython",
    "version": 3
   },
   "file_extension": ".py",
   "mimetype": "text/x-python",
   "name": "python",
   "nbconvert_exporter": "python",
   "pygments_lexer": "ipython3",
   "version": "3.7.4"
  }
 },
 "nbformat": 4,
 "nbformat_minor": 2
}
